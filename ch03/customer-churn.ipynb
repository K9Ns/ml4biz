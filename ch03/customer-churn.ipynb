{
 "cells": [
  {
   "cell_type": "markdown",
   "metadata": {},
   "source": [
    "# Predicting whether to contact a customer because they are at risk of churning"
   ]
  },
  {
   "cell_type": "markdown",
   "metadata": {},
   "source": [
    "For updates on the way Sagemaker or AWS behave compared to the notebook code, please refer to https://livebook.manning.com/#!/book/machine-learning-for-business/chapter-3/v-5/119"
   ]
  },
  {
   "cell_type": "markdown",
   "metadata": {},
   "source": [
    "## Part 1: Load and examine the data"
   ]
  },
  {
   "cell_type": "code",
   "execution_count": 1,
   "metadata": {},
   "outputs": [],
   "source": [
    "data_bucket = 'mlforbusiness'\n",
    "subfolder = 'ch03'\n",
    "dataset = 'churn_data.csv'"
   ]
  },
  {
   "cell_type": "code",
   "execution_count": 2,
   "metadata": {},
   "outputs": [],
   "source": [
    "import pandas as pd\n",
    "from time import sleep\n",
    "\n",
    "import boto3\n",
    "import sagemaker\n",
    "import s3fs\n",
    "from sklearn.model_selection import train_test_split\n",
    "import sklearn.metrics as metrics\n",
    "\n",
    "role = sagemaker.get_execution_role()\n",
    "s3 = s3fs.S3FileSystem(anon=False)"
   ]
  },
  {
   "cell_type": "code",
   "execution_count": 3,
   "metadata": {},
   "outputs": [
    {
     "data": {
      "text/html": [
       "<div>\n",
       "<style scoped>\n",
       "    .dataframe tbody tr th:only-of-type {\n",
       "        vertical-align: middle;\n",
       "    }\n",
       "\n",
       "    .dataframe tbody tr th {\n",
       "        vertical-align: top;\n",
       "    }\n",
       "\n",
       "    .dataframe thead th {\n",
       "        text-align: right;\n",
       "    }\n",
       "</style>\n",
       "<table border=\"1\" class=\"dataframe\">\n",
       "  <thead>\n",
       "    <tr style=\"text-align: right;\">\n",
       "      <th></th>\n",
       "      <th>churned</th>\n",
       "      <th>id</th>\n",
       "      <th>customer_code</th>\n",
       "      <th>co_name</th>\n",
       "      <th>total_spend</th>\n",
       "      <th>week_minus_4</th>\n",
       "      <th>week_minus_3</th>\n",
       "      <th>week_minus_2</th>\n",
       "      <th>last_week</th>\n",
       "      <th>4-3_delta</th>\n",
       "      <th>3-2_delta</th>\n",
       "      <th>2-1_delta</th>\n",
       "    </tr>\n",
       "  </thead>\n",
       "  <tbody>\n",
       "    <tr>\n",
       "      <th>0</th>\n",
       "      <td>0</td>\n",
       "      <td>1</td>\n",
       "      <td>1826</td>\n",
       "      <td>Hoffman Martinez and Chandler</td>\n",
       "      <td>68567.34</td>\n",
       "      <td>0.81</td>\n",
       "      <td>0.02</td>\n",
       "      <td>0.74</td>\n",
       "      <td>1.45</td>\n",
       "      <td>-0.79</td>\n",
       "      <td>0.72</td>\n",
       "      <td>0.71</td>\n",
       "    </tr>\n",
       "    <tr>\n",
       "      <th>1</th>\n",
       "      <td>0</td>\n",
       "      <td>2</td>\n",
       "      <td>772</td>\n",
       "      <td>Lee Martin and Escobar</td>\n",
       "      <td>74335.27</td>\n",
       "      <td>1.87</td>\n",
       "      <td>1.02</td>\n",
       "      <td>1.29</td>\n",
       "      <td>1.19</td>\n",
       "      <td>-0.85</td>\n",
       "      <td>0.27</td>\n",
       "      <td>-0.10</td>\n",
       "    </tr>\n",
       "    <tr>\n",
       "      <th>2</th>\n",
       "      <td>0</td>\n",
       "      <td>3</td>\n",
       "      <td>479</td>\n",
       "      <td>Hobbs Mcdaniel and Baker</td>\n",
       "      <td>48746.22</td>\n",
       "      <td>1.21</td>\n",
       "      <td>0.70</td>\n",
       "      <td>1.04</td>\n",
       "      <td>2.12</td>\n",
       "      <td>-0.51</td>\n",
       "      <td>0.34</td>\n",
       "      <td>1.08</td>\n",
       "    </tr>\n",
       "    <tr>\n",
       "      <th>3</th>\n",
       "      <td>0</td>\n",
       "      <td>4</td>\n",
       "      <td>1692</td>\n",
       "      <td>Williams-Harris</td>\n",
       "      <td>64416.70</td>\n",
       "      <td>0.75</td>\n",
       "      <td>2.08</td>\n",
       "      <td>2.40</td>\n",
       "      <td>2.02</td>\n",
       "      <td>1.33</td>\n",
       "      <td>0.32</td>\n",
       "      <td>-0.38</td>\n",
       "    </tr>\n",
       "    <tr>\n",
       "      <th>4</th>\n",
       "      <td>0</td>\n",
       "      <td>5</td>\n",
       "      <td>2578</td>\n",
       "      <td>Beck-Snyder</td>\n",
       "      <td>71623.20</td>\n",
       "      <td>2.33</td>\n",
       "      <td>0.66</td>\n",
       "      <td>1.97</td>\n",
       "      <td>1.60</td>\n",
       "      <td>-1.67</td>\n",
       "      <td>1.31</td>\n",
       "      <td>-0.37</td>\n",
       "    </tr>\n",
       "  </tbody>\n",
       "</table>\n",
       "</div>"
      ],
      "text/plain": [
       "   churned  id  customer_code                        co_name  total_spend  \\\n",
       "0        0   1           1826  Hoffman Martinez and Chandler     68567.34   \n",
       "1        0   2            772         Lee Martin and Escobar     74335.27   \n",
       "2        0   3            479       Hobbs Mcdaniel and Baker     48746.22   \n",
       "3        0   4           1692                Williams-Harris     64416.70   \n",
       "4        0   5           2578                    Beck-Snyder     71623.20   \n",
       "\n",
       "   week_minus_4  week_minus_3  week_minus_2  last_week  4-3_delta  3-2_delta  \\\n",
       "0          0.81          0.02          0.74       1.45      -0.79       0.72   \n",
       "1          1.87          1.02          1.29       1.19      -0.85       0.27   \n",
       "2          1.21          0.70          1.04       2.12      -0.51       0.34   \n",
       "3          0.75          2.08          2.40       2.02       1.33       0.32   \n",
       "4          2.33          0.66          1.97       1.60      -1.67       1.31   \n",
       "\n",
       "   2-1_delta  \n",
       "0       0.71  \n",
       "1      -0.10  \n",
       "2       1.08  \n",
       "3      -0.38  \n",
       "4      -0.37  "
      ]
     },
     "execution_count": 3,
     "metadata": {},
     "output_type": "execute_result"
    }
   ],
   "source": [
    "df = pd.read_csv(f's3://{data_bucket}/{subfolder}/{dataset}')\n",
    "df.head()"
   ]
  },
  {
   "cell_type": "code",
   "execution_count": 4,
   "metadata": {},
   "outputs": [
    {
     "name": "stdout",
     "output_type": "stream",
     "text": [
      "Number of rows in dataset: 2999\n",
      "0    2833\n",
      "1     166\n",
      "Name: churned, dtype: int64\n"
     ]
    }
   ],
   "source": [
    "print(f'Number of rows in dataset: {df.shape[0]}')\n",
    "print(df['churned'].value_counts())"
   ]
  },
  {
   "cell_type": "markdown",
   "metadata": {},
   "source": [
    "## Part 2: Get the data into the right shape"
   ]
  },
  {
   "cell_type": "code",
   "execution_count": 5,
   "metadata": {},
   "outputs": [
    {
     "data": {
      "text/html": [
       "<div>\n",
       "<style scoped>\n",
       "    .dataframe tbody tr th:only-of-type {\n",
       "        vertical-align: middle;\n",
       "    }\n",
       "\n",
       "    .dataframe tbody tr th {\n",
       "        vertical-align: top;\n",
       "    }\n",
       "\n",
       "    .dataframe thead th {\n",
       "        text-align: right;\n",
       "    }\n",
       "</style>\n",
       "<table border=\"1\" class=\"dataframe\">\n",
       "  <thead>\n",
       "    <tr style=\"text-align: right;\">\n",
       "      <th></th>\n",
       "      <th>churned</th>\n",
       "      <th>total_spend</th>\n",
       "      <th>week_minus_4</th>\n",
       "      <th>week_minus_3</th>\n",
       "      <th>week_minus_2</th>\n",
       "      <th>last_week</th>\n",
       "      <th>4-3_delta</th>\n",
       "      <th>3-2_delta</th>\n",
       "      <th>2-1_delta</th>\n",
       "    </tr>\n",
       "  </thead>\n",
       "  <tbody>\n",
       "    <tr>\n",
       "      <th>0</th>\n",
       "      <td>0</td>\n",
       "      <td>68567.34</td>\n",
       "      <td>0.81</td>\n",
       "      <td>0.02</td>\n",
       "      <td>0.74</td>\n",
       "      <td>1.45</td>\n",
       "      <td>-0.79</td>\n",
       "      <td>0.72</td>\n",
       "      <td>0.71</td>\n",
       "    </tr>\n",
       "    <tr>\n",
       "      <th>1</th>\n",
       "      <td>0</td>\n",
       "      <td>74335.27</td>\n",
       "      <td>1.87</td>\n",
       "      <td>1.02</td>\n",
       "      <td>1.29</td>\n",
       "      <td>1.19</td>\n",
       "      <td>-0.85</td>\n",
       "      <td>0.27</td>\n",
       "      <td>-0.10</td>\n",
       "    </tr>\n",
       "    <tr>\n",
       "      <th>2</th>\n",
       "      <td>0</td>\n",
       "      <td>48746.22</td>\n",
       "      <td>1.21</td>\n",
       "      <td>0.70</td>\n",
       "      <td>1.04</td>\n",
       "      <td>2.12</td>\n",
       "      <td>-0.51</td>\n",
       "      <td>0.34</td>\n",
       "      <td>1.08</td>\n",
       "    </tr>\n",
       "    <tr>\n",
       "      <th>3</th>\n",
       "      <td>0</td>\n",
       "      <td>64416.70</td>\n",
       "      <td>0.75</td>\n",
       "      <td>2.08</td>\n",
       "      <td>2.40</td>\n",
       "      <td>2.02</td>\n",
       "      <td>1.33</td>\n",
       "      <td>0.32</td>\n",
       "      <td>-0.38</td>\n",
       "    </tr>\n",
       "    <tr>\n",
       "      <th>4</th>\n",
       "      <td>0</td>\n",
       "      <td>71623.20</td>\n",
       "      <td>2.33</td>\n",
       "      <td>0.66</td>\n",
       "      <td>1.97</td>\n",
       "      <td>1.60</td>\n",
       "      <td>-1.67</td>\n",
       "      <td>1.31</td>\n",
       "      <td>-0.37</td>\n",
       "    </tr>\n",
       "  </tbody>\n",
       "</table>\n",
       "</div>"
      ],
      "text/plain": [
       "   churned  total_spend  week_minus_4  week_minus_3  week_minus_2  last_week  \\\n",
       "0        0     68567.34          0.81          0.02          0.74       1.45   \n",
       "1        0     74335.27          1.87          1.02          1.29       1.19   \n",
       "2        0     48746.22          1.21          0.70          1.04       2.12   \n",
       "3        0     64416.70          0.75          2.08          2.40       2.02   \n",
       "4        0     71623.20          2.33          0.66          1.97       1.60   \n",
       "\n",
       "   4-3_delta  3-2_delta  2-1_delta  \n",
       "0      -0.79       0.72       0.71  \n",
       "1      -0.85       0.27      -0.10  \n",
       "2      -0.51       0.34       1.08  \n",
       "3       1.33       0.32      -0.38  \n",
       "4      -1.67       1.31      -0.37  "
      ]
     },
     "execution_count": 5,
     "metadata": {},
     "output_type": "execute_result"
    }
   ],
   "source": [
    "columns = df.columns.tolist()\n",
    "encoded_data = df.drop(['id', 'customer_code', 'co_name'], axis=1)\n",
    "encoded_data.head()"
   ]
  },
  {
   "cell_type": "markdown",
   "metadata": {},
   "source": [
    "## Part 3: Create training, validation and test data sets"
   ]
  },
  {
   "cell_type": "code",
   "execution_count": 6,
   "metadata": {},
   "outputs": [
    {
     "name": "stdout",
     "output_type": "stream",
     "text": [
      "(2099, 9) (600, 9) (300, 9)\n",
      "\n",
      "Number of rows in Train dataset: {train_df.shape[0]}\n",
      "0    1983\n",
      "1     116\n",
      "Name: churned, dtype: int64\n",
      "\n",
      "Number of rows in Validate dataset: {val_df.shape[0]}\n",
      "0    567\n",
      "1     33\n",
      "Name: churned, dtype: int64\n",
      "\n",
      "Number of rows in Test dataset: {test_df.shape[0]}\n",
      "0    283\n",
      "1     17\n",
      "Name: churned, dtype: int64\n"
     ]
    }
   ],
   "source": [
    "y = encoded_data['churned']\n",
    "train_df, test_and_val_data, _, _ = train_test_split(encoded_data, y, test_size=0.3, stratify=y, random_state=0)\n",
    "\n",
    "y = test_and_val_data['churned']\n",
    "val_df, test_df, _, _ = train_test_split(test_and_val_data, y, test_size=0.333, stratify=y, random_state=0)\n",
    "\n",
    "print(train_df.shape, val_df.shape, test_df.shape)\n",
    "print()\n",
    "print('Number of rows in Train dataset: {train_df.shape[0]}')\n",
    "print(train_df['churned'].value_counts())\n",
    "print()\n",
    "print('Number of rows in Validate dataset: {val_df.shape[0]}')\n",
    "print(val_df['churned'].value_counts())\n",
    "print()\n",
    "print('Number of rows in Test dataset: {test_df.shape[0]}')\n",
    "print(test_df['churned'].value_counts())"
   ]
  },
  {
   "cell_type": "code",
   "execution_count": 7,
   "metadata": {},
   "outputs": [],
   "source": [
    "train_data = train_df.to_csv(None, header=False, index=False).encode()\n",
    "val_data = val_df.to_csv(None, header=False, index=False).encode()\n",
    "test_data = test_df.to_csv(None, header=True, index=False).encode()\n",
    "\n",
    "with s3.open(f'{data_bucket}/{subfolder}/processed/train.csv', 'wb') as f:\n",
    "    f.write(train_data)\n",
    "\n",
    "with s3.open(f'{data_bucket}/{subfolder}/processed/val.csv', 'wb') as f:\n",
    "    f.write(val_data) \n",
    "    \n",
    "with s3.open(f'{data_bucket}/{subfolder}/processed/test.csv', 'wb') as f:\n",
    "    f.write(test_data) \n",
    "    \n",
    "train_input = sagemaker.s3_input(s3_data=f's3://{data_bucket}/{subfolder}/processed/train.csv', content_type='csv')\n",
    "val_input = sagemaker.s3_input(s3_data=f's3://{data_bucket}/{subfolder}/processed/val.csv', content_type='csv')    "
   ]
  },
  {
   "cell_type": "markdown",
   "metadata": {},
   "source": [
    "## Part 4: Train the model"
   ]
  },
  {
   "cell_type": "code",
   "execution_count": 8,
   "metadata": {},
   "outputs": [
    {
     "name": "stdout",
     "output_type": "stream",
     "text": [
      "2019-07-28 03:06:41 Starting - Starting the training job...\n",
      "2019-07-28 03:06:42 Starting - Launching requested ML instances......\n",
      "2019-07-28 03:08:10 Starting - Preparing the instances for training.........\n",
      "2019-07-28 03:09:34 Downloading - Downloading input data\n",
      "2019-07-28 03:09:34 Training - Downloading the training image...\n",
      "2019-07-28 03:10:05 Uploading - Uploading generated training model\n",
      "2019-07-28 03:10:05 Completed - Training job completed\n",
      "\n",
      "\u001b[31mArguments: train\u001b[0m\n",
      "\u001b[31m[2019-07-28:03:09:55:INFO] Running standalone xgboost training.\u001b[0m\n",
      "\u001b[31m[2019-07-28:03:09:55:INFO] File size need to be processed in the node: 0.12mb. Available memory size in the node: 8444.15mb\u001b[0m\n",
      "\u001b[31m[2019-07-28:03:09:55:INFO] Determined delimiter of CSV input is ','\u001b[0m\n",
      "\u001b[31m[03:09:55] S3DistributionType set as FullyReplicated\u001b[0m\n",
      "\u001b[31m[03:09:55] 2099x8 matrix with 16792 entries loaded from /opt/ml/input/data/train?format=csv&label_column=0&delimiter=,\u001b[0m\n",
      "\u001b[31m[2019-07-28:03:09:55:INFO] Determined delimiter of CSV input is ','\u001b[0m\n",
      "\u001b[31m[03:09:55] S3DistributionType set as FullyReplicated\u001b[0m\n",
      "\u001b[31m[03:09:55] 600x8 matrix with 4800 entries loaded from /opt/ml/input/data/validation?format=csv&label_column=0&delimiter=,\u001b[0m\n",
      "\u001b[31m[03:09:55] src/tree/updater_prune.cc:74: tree pruning end, 1 roots, 10 extra nodes, 0 pruned nodes, max_depth=3\u001b[0m\n",
      "\u001b[31m[0]#011train-auc:0.974438#011validation-auc:0.975068\u001b[0m\n",
      "\u001b[31mMultiple eval metrics have been passed: 'validation-auc' will be used for early stopping.\n",
      "\u001b[0m\n",
      "\u001b[31mWill train until validation-auc hasn't improved in 10 rounds.\u001b[0m\n",
      "\u001b[31m[03:09:55] src/tree/updater_prune.cc:74: tree pruning end, 1 roots, 10 extra nodes, 0 pruned nodes, max_depth=3\u001b[0m\n",
      "\u001b[31m[1]#011train-auc:0.977038#011validation-auc:0.976885\u001b[0m\n",
      "\u001b[31m[03:09:55] src/tree/updater_prune.cc:74: tree pruning end, 1 roots, 10 extra nodes, 0 pruned nodes, max_depth=3\u001b[0m\n",
      "\u001b[31m[2]#011train-auc:0.977033#011validation-auc:0.976885\u001b[0m\n",
      "\u001b[31m[03:09:55] src/tree/updater_prune.cc:74: tree pruning end, 1 roots, 10 extra nodes, 0 pruned nodes, max_depth=3\u001b[0m\n",
      "\u001b[31m[3]#011train-auc:0.977394#011validation-auc:0.976591\u001b[0m\n",
      "\u001b[31m[03:09:55] src/tree/updater_prune.cc:74: tree pruning end, 1 roots, 10 extra nodes, 0 pruned nodes, max_depth=3\u001b[0m\n",
      "\u001b[31m[4]#011train-auc:0.977418#011validation-auc:0.976431\u001b[0m\n",
      "\u001b[31m[03:09:55] src/tree/updater_prune.cc:74: tree pruning end, 1 roots, 12 extra nodes, 0 pruned nodes, max_depth=3\u001b[0m\n",
      "\u001b[31m[5]#011train-auc:0.977301#011validation-auc:0.980252\u001b[0m\n",
      "\u001b[31m[03:09:55] src/tree/updater_prune.cc:74: tree pruning end, 1 roots, 10 extra nodes, 0 pruned nodes, max_depth=3\u001b[0m\n",
      "\u001b[31m[6]#011train-auc:0.97752#011validation-auc:0.980493\u001b[0m\n",
      "\u001b[31m[03:09:55] src/tree/updater_prune.cc:74: tree pruning end, 1 roots, 10 extra nodes, 0 pruned nodes, max_depth=3\u001b[0m\n",
      "\u001b[31m[7]#011train-auc:0.978455#011validation-auc:0.977072\u001b[0m\n",
      "\u001b[31m[03:09:55] src/tree/updater_prune.cc:74: tree pruning end, 1 roots, 12 extra nodes, 0 pruned nodes, max_depth=3\u001b[0m\n",
      "\u001b[31m[8]#011train-auc:0.979985#011validation-auc:0.977633\u001b[0m\n",
      "\u001b[31m[03:09:55] src/tree/updater_prune.cc:74: tree pruning end, 1 roots, 10 extra nodes, 0 pruned nodes, max_depth=3\u001b[0m\n",
      "\u001b[31m[9]#011train-auc:0.980746#011validation-auc:0.97774\u001b[0m\n",
      "\u001b[31m[03:09:55] src/tree/updater_prune.cc:74: tree pruning end, 1 roots, 12 extra nodes, 0 pruned nodes, max_depth=3\u001b[0m\n",
      "\u001b[31m[10]#011train-auc:0.98137#011validation-auc:0.97897\u001b[0m\n",
      "\u001b[31m[03:09:55] src/tree/updater_prune.cc:74: tree pruning end, 1 roots, 6 extra nodes, 0 pruned nodes, max_depth=3\u001b[0m\n",
      "\u001b[31m[11]#011train-auc:0.98203#011validation-auc:0.97774\u001b[0m\n",
      "\u001b[31m[03:09:55] src/tree/updater_prune.cc:74: tree pruning end, 1 roots, 8 extra nodes, 0 pruned nodes, max_depth=3\u001b[0m\n",
      "\u001b[31m[12]#011train-auc:0.983274#011validation-auc:0.977152\u001b[0m\n",
      "\u001b[31m[03:09:55] src/tree/updater_prune.cc:74: tree pruning end, 1 roots, 6 extra nodes, 0 pruned nodes, max_depth=3\u001b[0m\n",
      "\u001b[31m[13]#011train-auc:0.984152#011validation-auc:0.976244\u001b[0m\n",
      "\u001b[31m[03:09:55] src/tree/updater_prune.cc:74: tree pruning end, 1 roots, 8 extra nodes, 0 pruned nodes, max_depth=3\u001b[0m\n",
      "\u001b[31m[14]#011train-auc:0.984132#011validation-auc:0.975255\u001b[0m\n",
      "\u001b[31m[03:09:55] src/tree/updater_prune.cc:74: tree pruning end, 1 roots, 10 extra nodes, 0 pruned nodes, max_depth=3\u001b[0m\n",
      "\u001b[31m[15]#011train-auc:0.98571#011validation-auc:0.976057\u001b[0m\n",
      "\u001b[31m[03:09:55] src/tree/updater_prune.cc:74: tree pruning end, 1 roots, 14 extra nodes, 0 pruned nodes, max_depth=3\u001b[0m\n",
      "\u001b[31m[16]#011train-auc:0.986562#011validation-auc:0.975683\u001b[0m\n",
      "\u001b[31mStopping. Best iteration:\u001b[0m\n",
      "\u001b[31m[6]#011train-auc:0.97752#011validation-auc:0.980493\n",
      "\u001b[0m\n",
      "Billable seconds: 51\n"
     ]
    }
   ],
   "source": [
    "sess = sagemaker.Session()\n",
    "\n",
    "container = sagemaker.amazon.amazon_estimator.get_image_uri(\n",
    "                boto3.Session().region_name,\n",
    "                'xgboost',\n",
    "                'latest')\n",
    "\n",
    "estimator = sagemaker.estimator.Estimator(\n",
    "                        container, \n",
    "                        role,\n",
    "                        train_instance_count=1, \n",
    "                        train_instance_type='ml.m4.xlarge',\n",
    "                        output_path=f's3://{data_bucket}/{subfolder}/output',\n",
    "                        sagemaker_session=sess)\n",
    "\n",
    "estimator.set_hyperparameters(\n",
    "                        max_depth=3,\n",
    "                        subsample=0.7,\n",
    "                        objective='binary:logistic',\n",
    "                        eval_metric='auc',\n",
    "                        num_round=100,\n",
    "                        early_stopping_rounds=10,\n",
    "                        scale_pos_weight=17)\n",
    "\n",
    "estimator.fit({'train': train_input, 'validation': val_input})"
   ]
  },
  {
   "cell_type": "markdown",
   "metadata": {},
   "source": [
    "## Part 5: Host the model"
   ]
  },
  {
   "cell_type": "code",
   "execution_count": 9,
   "metadata": {},
   "outputs": [],
   "source": [
    "endpoint_name = 'customer-churn'\n",
    "\n",
    "try:\n",
    "    sess.delete_endpoint(endpoint_name)\n",
    "    print('Warning: Existing endpoint deleted to make way for your new endpoint.')\n",
    "    sleep(30)\n",
    "except:\n",
    "    pass"
   ]
  },
  {
   "cell_type": "code",
   "execution_count": 10,
   "metadata": {},
   "outputs": [
    {
     "name": "stdout",
     "output_type": "stream",
     "text": [
      "--------------------------------------------------------------------------------------------------------------!"
     ]
    }
   ],
   "source": [
    "predictor = estimator.deploy(\n",
    "                initial_instance_count=1,\n",
    "                instance_type='ml.m4.xlarge', \n",
    "                endpoint_name=endpoint_name)"
   ]
  },
  {
   "cell_type": "code",
   "execution_count": 11,
   "metadata": {},
   "outputs": [],
   "source": [
    "from sagemaker.predictor import csv_serializer, json_serializer\n",
    "predictor.content_type = 'text/csv'\n",
    "predictor.serializer = csv_serializer\n",
    "predictor.deserializer = None"
   ]
  },
  {
   "cell_type": "markdown",
   "metadata": {},
   "source": [
    "## Part 6: Test the model"
   ]
  },
  {
   "cell_type": "code",
   "execution_count": 12,
   "metadata": {},
   "outputs": [
    {
     "data": {
      "text/html": [
       "<div>\n",
       "<style scoped>\n",
       "    .dataframe tbody tr th:only-of-type {\n",
       "        vertical-align: middle;\n",
       "    }\n",
       "\n",
       "    .dataframe tbody tr th {\n",
       "        vertical-align: top;\n",
       "    }\n",
       "\n",
       "    .dataframe thead th {\n",
       "        text-align: right;\n",
       "    }\n",
       "</style>\n",
       "<table border=\"1\" class=\"dataframe\">\n",
       "  <thead>\n",
       "    <tr style=\"text-align: right;\">\n",
       "      <th></th>\n",
       "      <th>churned</th>\n",
       "      <th>total_spend</th>\n",
       "      <th>week_minus_4</th>\n",
       "      <th>week_minus_3</th>\n",
       "      <th>week_minus_2</th>\n",
       "      <th>last_week</th>\n",
       "      <th>4-3_delta</th>\n",
       "      <th>3-2_delta</th>\n",
       "      <th>2-1_delta</th>\n",
       "      <th>prediction</th>\n",
       "    </tr>\n",
       "  </thead>\n",
       "  <tbody>\n",
       "    <tr>\n",
       "      <th>0</th>\n",
       "      <td>0</td>\n",
       "      <td>76897.46</td>\n",
       "      <td>0.56</td>\n",
       "      <td>2.29</td>\n",
       "      <td>1.14</td>\n",
       "      <td>2.23</td>\n",
       "      <td>1.73</td>\n",
       "      <td>-1.15</td>\n",
       "      <td>1.09</td>\n",
       "      <td>0</td>\n",
       "    </tr>\n",
       "    <tr>\n",
       "      <th>1</th>\n",
       "      <td>0</td>\n",
       "      <td>19604.63</td>\n",
       "      <td>1.95</td>\n",
       "      <td>2.04</td>\n",
       "      <td>0.82</td>\n",
       "      <td>1.62</td>\n",
       "      <td>0.09</td>\n",
       "      <td>-1.22</td>\n",
       "      <td>0.80</td>\n",
       "      <td>0</td>\n",
       "    </tr>\n",
       "    <tr>\n",
       "      <th>2</th>\n",
       "      <td>0</td>\n",
       "      <td>23369.60</td>\n",
       "      <td>1.11</td>\n",
       "      <td>1.54</td>\n",
       "      <td>1.55</td>\n",
       "      <td>1.14</td>\n",
       "      <td>0.43</td>\n",
       "      <td>0.01</td>\n",
       "      <td>-0.41</td>\n",
       "      <td>0</td>\n",
       "    </tr>\n",
       "    <tr>\n",
       "      <th>3</th>\n",
       "      <td>1</td>\n",
       "      <td>40709.47</td>\n",
       "      <td>2.40</td>\n",
       "      <td>1.87</td>\n",
       "      <td>0.07</td>\n",
       "      <td>0.61</td>\n",
       "      <td>-0.53</td>\n",
       "      <td>-1.80</td>\n",
       "      <td>0.54</td>\n",
       "      <td>1</td>\n",
       "    </tr>\n",
       "    <tr>\n",
       "      <th>4</th>\n",
       "      <td>0</td>\n",
       "      <td>69953.52</td>\n",
       "      <td>2.01</td>\n",
       "      <td>1.20</td>\n",
       "      <td>1.05</td>\n",
       "      <td>1.41</td>\n",
       "      <td>-0.81</td>\n",
       "      <td>-0.15</td>\n",
       "      <td>0.36</td>\n",
       "      <td>0</td>\n",
       "    </tr>\n",
       "    <tr>\n",
       "      <th>5</th>\n",
       "      <td>0</td>\n",
       "      <td>71939.07</td>\n",
       "      <td>0.54</td>\n",
       "      <td>1.17</td>\n",
       "      <td>0.21</td>\n",
       "      <td>2.29</td>\n",
       "      <td>0.63</td>\n",
       "      <td>-0.96</td>\n",
       "      <td>2.08</td>\n",
       "      <td>0</td>\n",
       "    </tr>\n",
       "    <tr>\n",
       "      <th>6</th>\n",
       "      <td>0</td>\n",
       "      <td>45930.53</td>\n",
       "      <td>0.08</td>\n",
       "      <td>1.43</td>\n",
       "      <td>0.41</td>\n",
       "      <td>1.34</td>\n",
       "      <td>1.35</td>\n",
       "      <td>-1.02</td>\n",
       "      <td>0.93</td>\n",
       "      <td>0</td>\n",
       "    </tr>\n",
       "    <tr>\n",
       "      <th>7</th>\n",
       "      <td>0</td>\n",
       "      <td>47080.25</td>\n",
       "      <td>1.54</td>\n",
       "      <td>0.68</td>\n",
       "      <td>0.80</td>\n",
       "      <td>0.54</td>\n",
       "      <td>-0.86</td>\n",
       "      <td>0.12</td>\n",
       "      <td>-0.26</td>\n",
       "      <td>0</td>\n",
       "    </tr>\n",
       "    <tr>\n",
       "      <th>8</th>\n",
       "      <td>0</td>\n",
       "      <td>35506.83</td>\n",
       "      <td>1.37</td>\n",
       "      <td>0.93</td>\n",
       "      <td>1.70</td>\n",
       "      <td>0.67</td>\n",
       "      <td>-0.44</td>\n",
       "      <td>0.77</td>\n",
       "      <td>-1.03</td>\n",
       "      <td>0</td>\n",
       "    </tr>\n",
       "    <tr>\n",
       "      <th>9</th>\n",
       "      <td>0</td>\n",
       "      <td>39188.12</td>\n",
       "      <td>0.40</td>\n",
       "      <td>1.86</td>\n",
       "      <td>0.10</td>\n",
       "      <td>0.82</td>\n",
       "      <td>1.46</td>\n",
       "      <td>-1.76</td>\n",
       "      <td>0.72</td>\n",
       "      <td>0</td>\n",
       "    </tr>\n",
       "  </tbody>\n",
       "</table>\n",
       "</div>"
      ],
      "text/plain": [
       "   churned  total_spend  week_minus_4  week_minus_3  week_minus_2  last_week  \\\n",
       "0        0     76897.46          0.56          2.29          1.14       2.23   \n",
       "1        0     19604.63          1.95          2.04          0.82       1.62   \n",
       "2        0     23369.60          1.11          1.54          1.55       1.14   \n",
       "3        1     40709.47          2.40          1.87          0.07       0.61   \n",
       "4        0     69953.52          2.01          1.20          1.05       1.41   \n",
       "5        0     71939.07          0.54          1.17          0.21       2.29   \n",
       "6        0     45930.53          0.08          1.43          0.41       1.34   \n",
       "7        0     47080.25          1.54          0.68          0.80       0.54   \n",
       "8        0     35506.83          1.37          0.93          1.70       0.67   \n",
       "9        0     39188.12          0.40          1.86          0.10       0.82   \n",
       "\n",
       "   4-3_delta  3-2_delta  2-1_delta  prediction  \n",
       "0       1.73      -1.15       1.09           0  \n",
       "1       0.09      -1.22       0.80           0  \n",
       "2       0.43       0.01      -0.41           0  \n",
       "3      -0.53      -1.80       0.54           1  \n",
       "4      -0.81      -0.15       0.36           0  \n",
       "5       0.63      -0.96       2.08           0  \n",
       "6       1.35      -1.02       0.93           0  \n",
       "7      -0.86       0.12      -0.26           0  \n",
       "8      -0.44       0.77      -1.03           0  \n",
       "9       1.46      -1.76       0.72           0  "
      ]
     },
     "execution_count": 12,
     "metadata": {},
     "output_type": "execute_result"
    }
   ],
   "source": [
    "def get_prediction(row):\n",
    "    prob = float(predictor.predict(row[1:]).decode('utf-8'))\n",
    "    return 1 if prob > 0.5 else 0\n",
    "\n",
    "with s3.open(f'{data_bucket}/{subfolder}/processed/test.csv') as f:\n",
    "    test_data = pd.read_csv(f)\n",
    "\n",
    "test_data['prediction'] = test_data.apply(get_prediction, axis=1)\n",
    "test_data[:10]"
   ]
  },
  {
   "cell_type": "code",
   "execution_count": 13,
   "metadata": {},
   "outputs": [
    {
     "name": "stdout",
     "output_type": "stream",
     "text": [
      "0    283\n",
      "1     17\n",
      "Name: churned, dtype: int64\n",
      "0    267\n",
      "1     33\n",
      "Name: prediction, dtype: int64\n",
      "0.9466666666666667\n"
     ]
    }
   ],
   "source": [
    "print(test_data['churned'].value_counts())\n",
    "print(test_data['prediction'].value_counts())\n",
    "print(metrics.accuracy_score(test_data['churned'],test_data['prediction']))"
   ]
  },
  {
   "cell_type": "code",
   "execution_count": 14,
   "metadata": {},
   "outputs": [
    {
     "name": "stdout",
     "output_type": "stream",
     "text": [
      "[[267  16]\n",
      " [  0  17]]\n"
     ]
    }
   ],
   "source": [
    "print(metrics.confusion_matrix(test_data['churned'],test_data['prediction']))"
   ]
  },
  {
   "cell_type": "code",
   "execution_count": 19,
   "metadata": {},
   "outputs": [
    {
     "name": "stdout",
     "output_type": "stream",
     "text": [
      "[[7 1 0]\n",
      " [1 0 0]\n",
      " [0 0 1]]\n"
     ]
    }
   ],
   "source": [
    "y = [1,0,0,0,0,0,0,0,0,2]\n",
    "pred = [0,0,0,0,0,0,0,0,1,2]\n",
    "print(metrics.confusion_matrix(y,pred))"
   ]
  },
  {
   "cell_type": "markdown",
   "metadata": {},
   "source": [
    "## Remove the Endpoint (optional)\n",
    "Comment out this cell to remove the endpoint if you want the endpoint to exist after \"run all\""
   ]
  },
  {
   "cell_type": "code",
   "execution_count": null,
   "metadata": {},
   "outputs": [],
   "source": [
    "sess.delete_endpoint(endpoint_name)"
   ]
  }
 ],
 "metadata": {
  "kernelspec": {
   "display_name": "conda_python3",
   "language": "python",
   "name": "conda_python3"
  },
  "language_info": {
   "codemirror_mode": {
    "name": "ipython",
    "version": 3
   },
   "file_extension": ".py",
   "mimetype": "text/x-python",
   "name": "python",
   "nbconvert_exporter": "python",
   "pygments_lexer": "ipython3",
   "version": "3.6.5"
  },
  "notice": "Copyright 2017 Amazon.com, Inc. or its affiliates. All Rights Reserved.  Licensed under the Apache License, Version 2.0 (the \"License\"). You may not use this file except in compliance with the License. A copy of the License is located at http://aws.amazon.com/apache2.0/ or in the \"license\" file accompanying this file. This file is distributed on an \"AS IS\" BASIS, WITHOUT WARRANTIES OR CONDITIONS OF ANY KIND, either express or implied. See the License for the specific language governing permissions and limitations under the License."
 },
 "nbformat": 4,
 "nbformat_minor": 2
}
