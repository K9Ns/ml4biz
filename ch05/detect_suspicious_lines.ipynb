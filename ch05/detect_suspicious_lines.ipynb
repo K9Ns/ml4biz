{
 "cells": [
  {
   "cell_type": "markdown",
   "metadata": {},
   "source": [
    "## Part 1: Load and examine the data"
   ]
  },
  {
   "cell_type": "markdown",
   "metadata": {},
   "source": [
    "To run the code in the notebook cell, change the name of the data_bucket from 'machliba' to the data_bucket holding your data and click into the cell and press Ctrl+Enter."
   ]
  },
  {
   "cell_type": "code",
   "execution_count": 1,
   "metadata": {},
   "outputs": [],
   "source": [
    "data_bucket = 'mlforbusiness' \n",
    "subfolder = 'ch05' \n",
    "dataset = 'activities.csv' "
   ]
  },
  {
   "cell_type": "code",
   "execution_count": 2,
   "metadata": {},
   "outputs": [],
   "source": [
    "import pandas as pd\n",
    "import boto3\n",
    "import s3fs\n",
    "import sagemaker\n",
    "from sklearn.model_selection import train_test_split\n",
    "import json\n",
    "import csv\n",
    "\n",
    "role = sagemaker.get_execution_role()\n",
    "s3 = s3fs.S3FileSystem(anon=False)"
   ]
  },
  {
   "cell_type": "code",
   "execution_count": 3,
   "metadata": {},
   "outputs": [
    {
     "data": {
      "text/html": [
       "<div>\n",
       "<style scoped>\n",
       "    .dataframe tbody tr th:only-of-type {\n",
       "        vertical-align: middle;\n",
       "    }\n",
       "\n",
       "    .dataframe tbody tr th {\n",
       "        vertical-align: top;\n",
       "    }\n",
       "\n",
       "    .dataframe thead th {\n",
       "        text-align: right;\n",
       "    }\n",
       "</style>\n",
       "<table border=\"1\" class=\"dataframe\">\n",
       "  <thead>\n",
       "    <tr style=\"text-align: right;\">\n",
       "      <th></th>\n",
       "      <th>Matter Number</th>\n",
       "      <th>Firm Name</th>\n",
       "      <th>Matter Type</th>\n",
       "      <th>Resource</th>\n",
       "      <th>Activity</th>\n",
       "      <th>Minutes</th>\n",
       "      <th>Fee</th>\n",
       "      <th>Total</th>\n",
       "      <th>Error</th>\n",
       "    </tr>\n",
       "  </thead>\n",
       "  <tbody>\n",
       "    <tr>\n",
       "      <th>5</th>\n",
       "      <td>0</td>\n",
       "      <td>Cox Group</td>\n",
       "      <td>Antitrust</td>\n",
       "      <td>Paralegal</td>\n",
       "      <td>Attend Court</td>\n",
       "      <td>110</td>\n",
       "      <td>50</td>\n",
       "      <td>91.67</td>\n",
       "      <td>False</td>\n",
       "    </tr>\n",
       "    <tr>\n",
       "      <th>6</th>\n",
       "      <td>0</td>\n",
       "      <td>Cox Group</td>\n",
       "      <td>Antitrust</td>\n",
       "      <td>Junior</td>\n",
       "      <td>Attend Court</td>\n",
       "      <td>505</td>\n",
       "      <td>150</td>\n",
       "      <td>1262.50</td>\n",
       "      <td>True</td>\n",
       "    </tr>\n",
       "    <tr>\n",
       "      <th>7</th>\n",
       "      <td>0</td>\n",
       "      <td>Cox Group</td>\n",
       "      <td>Antitrust</td>\n",
       "      <td>Paralegal</td>\n",
       "      <td>Attend Meeting</td>\n",
       "      <td>60</td>\n",
       "      <td>50</td>\n",
       "      <td>50.00</td>\n",
       "      <td>False</td>\n",
       "    </tr>\n",
       "  </tbody>\n",
       "</table>\n",
       "</div>"
      ],
      "text/plain": [
       "   Matter Number  Firm Name Matter Type   Resource        Activity  Minutes  \\\n",
       "5              0  Cox Group   Antitrust  Paralegal    Attend Court      110   \n",
       "6              0  Cox Group   Antitrust     Junior    Attend Court      505   \n",
       "7              0  Cox Group   Antitrust  Paralegal  Attend Meeting       60   \n",
       "\n",
       "   Fee    Total  Error  \n",
       "5   50    91.67  False  \n",
       "6  150  1262.50   True  \n",
       "7   50    50.00  False  "
      ]
     },
     "metadata": {},
     "output_type": "display_data"
    }
   ],
   "source": [
    "df = pd.read_csv(f's3://{data_bucket}/{subfolder}/{dataset}')\n",
    "display(df[5:8])"
   ]
  },
  {
   "cell_type": "code",
   "execution_count": 4,
   "metadata": {},
   "outputs": [
    {
     "data": {
      "text/plain": [
       "False    103935\n",
       "True       2030\n",
       "Name: Error, dtype: int64"
      ]
     },
     "execution_count": 4,
     "metadata": {},
     "output_type": "execute_result"
    }
   ],
   "source": [
    "df['Error'].value_counts() # Display the number of error lines: False = no error. True = error."
   ]
  },
  {
   "cell_type": "code",
   "execution_count": 5,
   "metadata": {},
   "outputs": [
    {
     "name": "stdout",
     "output_type": "stream",
     "text": [
      "Number of rows in dataset: 105965\n",
      "\n",
      "Matter types:\n",
      "Antitrust                 23922\n",
      "Insolvency                16499\n",
      "IPO                       14236\n",
      "Commercial arbitration    12927\n",
      "Project finance           11776\n",
      "M&A                        6460\n",
      "Structured finance         5498\n",
      "Asset recovery             4913\n",
      "Tax planning               4871\n",
      "Securities litigation      4863\n",
      "Name: Matter Type, dtype: int64\n",
      "\n",
      "Resources:\n",
      "Partner      26587\n",
      "Junior       26543\n",
      "Paralegal    26519\n",
      "Senior       26316\n",
      "Name: Resource, dtype: int64\n",
      "\n",
      "Activities:\n",
      "Prepare Opinion    26605\n",
      "Phone Call         26586\n",
      "Attend Court       26405\n",
      "Attend Meeting     26369\n",
      "Name: Activity, dtype: int64\n"
     ]
    }
   ],
   "source": [
    "print(f'Number of rows in dataset: {df.shape[0]}')\n",
    "print()\n",
    "print('Matter types:')\n",
    "print(df['Matter Type'].value_counts())\n",
    "print()\n",
    "print('Resources:')\n",
    "print(df['Resource'].value_counts())\n",
    "print()\n",
    "print('Activities:')\n",
    "print(df['Activity'].value_counts())"
   ]
  },
  {
   "cell_type": "markdown",
   "metadata": {},
   "source": [
    "## Part 2: Get the data into the right shape"
   ]
  },
  {
   "cell_type": "code",
   "execution_count": 6,
   "metadata": {
    "scrolled": false
   },
   "outputs": [
    {
     "data": {
      "text/html": [
       "<div>\n",
       "<style scoped>\n",
       "    .dataframe tbody tr th:only-of-type {\n",
       "        vertical-align: middle;\n",
       "    }\n",
       "\n",
       "    .dataframe tbody tr th {\n",
       "        vertical-align: top;\n",
       "    }\n",
       "\n",
       "    .dataframe thead th {\n",
       "        text-align: right;\n",
       "    }\n",
       "</style>\n",
       "<table border=\"1\" class=\"dataframe\">\n",
       "  <thead>\n",
       "    <tr style=\"text-align: right;\">\n",
       "      <th></th>\n",
       "      <th>Matter Number</th>\n",
       "      <th>Firm Name</th>\n",
       "      <th>Minutes</th>\n",
       "      <th>Fee</th>\n",
       "      <th>Total</th>\n",
       "      <th>Error</th>\n",
       "      <th>Matter Type_Antitrust</th>\n",
       "      <th>Matter Type_Asset recovery</th>\n",
       "      <th>Matter Type_Commercial arbitration</th>\n",
       "      <th>Matter Type_IPO</th>\n",
       "      <th>...</th>\n",
       "      <th>Matter Type_Structured finance</th>\n",
       "      <th>Matter Type_Tax planning</th>\n",
       "      <th>Resource_Junior</th>\n",
       "      <th>Resource_Paralegal</th>\n",
       "      <th>Resource_Partner</th>\n",
       "      <th>Resource_Senior</th>\n",
       "      <th>Activity_Attend Court</th>\n",
       "      <th>Activity_Attend Meeting</th>\n",
       "      <th>Activity_Phone Call</th>\n",
       "      <th>Activity_Prepare Opinion</th>\n",
       "    </tr>\n",
       "  </thead>\n",
       "  <tbody>\n",
       "    <tr>\n",
       "      <th>0</th>\n",
       "      <td>0</td>\n",
       "      <td>Cox Group</td>\n",
       "      <td>85</td>\n",
       "      <td>70</td>\n",
       "      <td>99.17</td>\n",
       "      <td>False</td>\n",
       "      <td>1</td>\n",
       "      <td>0</td>\n",
       "      <td>0</td>\n",
       "      <td>0</td>\n",
       "      <td>...</td>\n",
       "      <td>0</td>\n",
       "      <td>0</td>\n",
       "      <td>0</td>\n",
       "      <td>1</td>\n",
       "      <td>0</td>\n",
       "      <td>0</td>\n",
       "      <td>0</td>\n",
       "      <td>0</td>\n",
       "      <td>0</td>\n",
       "      <td>1</td>\n",
       "    </tr>\n",
       "    <tr>\n",
       "      <th>1</th>\n",
       "      <td>0</td>\n",
       "      <td>Cox Group</td>\n",
       "      <td>505</td>\n",
       "      <td>150</td>\n",
       "      <td>1262.50</td>\n",
       "      <td>False</td>\n",
       "      <td>1</td>\n",
       "      <td>0</td>\n",
       "      <td>0</td>\n",
       "      <td>0</td>\n",
       "      <td>...</td>\n",
       "      <td>0</td>\n",
       "      <td>0</td>\n",
       "      <td>1</td>\n",
       "      <td>0</td>\n",
       "      <td>0</td>\n",
       "      <td>0</td>\n",
       "      <td>0</td>\n",
       "      <td>0</td>\n",
       "      <td>0</td>\n",
       "      <td>1</td>\n",
       "    </tr>\n",
       "    <tr>\n",
       "      <th>2</th>\n",
       "      <td>0</td>\n",
       "      <td>Cox Group</td>\n",
       "      <td>100</td>\n",
       "      <td>180</td>\n",
       "      <td>300.00</td>\n",
       "      <td>False</td>\n",
       "      <td>1</td>\n",
       "      <td>0</td>\n",
       "      <td>0</td>\n",
       "      <td>0</td>\n",
       "      <td>...</td>\n",
       "      <td>0</td>\n",
       "      <td>0</td>\n",
       "      <td>1</td>\n",
       "      <td>0</td>\n",
       "      <td>0</td>\n",
       "      <td>0</td>\n",
       "      <td>0</td>\n",
       "      <td>0</td>\n",
       "      <td>0</td>\n",
       "      <td>1</td>\n",
       "    </tr>\n",
       "  </tbody>\n",
       "</table>\n",
       "<p>3 rows × 24 columns</p>\n",
       "</div>"
      ],
      "text/plain": [
       "   Matter Number  Firm Name  Minutes  Fee    Total  Error  \\\n",
       "0              0  Cox Group       85   70    99.17  False   \n",
       "1              0  Cox Group      505  150  1262.50  False   \n",
       "2              0  Cox Group      100  180   300.00  False   \n",
       "\n",
       "   Matter Type_Antitrust  Matter Type_Asset recovery  \\\n",
       "0                      1                           0   \n",
       "1                      1                           0   \n",
       "2                      1                           0   \n",
       "\n",
       "   Matter Type_Commercial arbitration  Matter Type_IPO  ...  \\\n",
       "0                                   0                0  ...   \n",
       "1                                   0                0  ...   \n",
       "2                                   0                0  ...   \n",
       "\n",
       "   Matter Type_Structured finance  Matter Type_Tax planning  Resource_Junior  \\\n",
       "0                               0                         0                0   \n",
       "1                               0                         0                1   \n",
       "2                               0                         0                1   \n",
       "\n",
       "   Resource_Paralegal  Resource_Partner  Resource_Senior  \\\n",
       "0                   1                 0                0   \n",
       "1                   0                 0                0   \n",
       "2                   0                 0                0   \n",
       "\n",
       "   Activity_Attend Court  Activity_Attend Meeting  Activity_Phone Call  \\\n",
       "0                      0                        0                    0   \n",
       "1                      0                        0                    0   \n",
       "2                      0                        0                    0   \n",
       "\n",
       "   Activity_Prepare Opinion  \n",
       "0                         1  \n",
       "1                         1  \n",
       "2                         1  \n",
       "\n",
       "[3 rows x 24 columns]"
      ]
     },
     "execution_count": 6,
     "metadata": {},
     "output_type": "execute_result"
    }
   ],
   "source": [
    "encoded_df = pd.get_dummies(df, columns=['Matter Type','Resource','Activity']) \n",
    "encoded_df.head(3)"
   ]
  },
  {
   "cell_type": "markdown",
   "metadata": {},
   "source": [
    "## Part 3: Create training and validation datasets"
   ]
  },
  {
   "cell_type": "code",
   "execution_count": 7,
   "metadata": {
    "scrolled": true
   },
   "outputs": [
    {
     "name": "stdout",
     "output_type": "stream",
     "text": [
      "84772 rows in training data\n",
      "21193 rows in validation data\n"
     ]
    }
   ],
   "source": [
    "train_df, val_df, _, _ = train_test_split(encoded_df, encoded_df['Error'], test_size=0.2, random_state=0)\n",
    "train_df_no_result = train_df.drop(['Error','Firm Name'], axis=1)\n",
    "val_df_no_result = val_df.drop(['Error','Firm Name'], axis=1)\n",
    "print(f'{train_df.shape[0]} rows in training data')\n",
    "print(f'{val_df.shape[0]} rows in validation data')"
   ]
  },
  {
   "cell_type": "markdown",
   "metadata": {},
   "source": [
    "## Part 4: Train the model\n",
    "\n"
   ]
  },
  {
   "cell_type": "code",
   "execution_count": 8,
   "metadata": {},
   "outputs": [
    {
     "name": "stdout",
     "output_type": "stream",
     "text": [
      "2019-06-15 05:08:08 Starting - Starting the training job...\n",
      "2019-06-15 05:08:11 Starting - Launching requested ML instances......\n",
      "2019-06-15 05:09:17 Starting - Preparing the instances for training......\n",
      "2019-06-15 05:10:24 Downloading - Downloading input data...\n",
      "2019-06-15 05:11:01 Training - Downloading the training image.\n",
      "\u001b[31mDocker entrypoint called with argument(s): train\u001b[0m\n",
      "\u001b[31m[06/15/2019 05:11:12 INFO 140679788066624] Reading default configuration from /opt/amazon/lib/python2.7/site-packages/algorithm/resources/default-conf.json: {u'_ftp_port': 8999, u'num_samples_per_tree': 256, u'_tuning_objective_metric': u'', u'_num_gpus': u'auto', u'_log_level': u'info', u'_kvstore': u'dist_async', u'force_dense': u'true', u'epochs': 1, u'num_trees': 100, u'eval_metrics': [u'accuracy', u'precision_recall_fscore'], u'_num_kv_servers': u'auto', u'mini_batch_size': 1000}\u001b[0m\n",
      "\u001b[31m[06/15/2019 05:11:12 INFO 140679788066624] Reading provided configuration from /opt/ml/input/config/hyperparameters.json: {u'mini_batch_size': u'1000', u'feature_dim': u'22', u'num_samples_per_tree': u'100', u'num_trees': u'50'}\u001b[0m\n",
      "\u001b[31m[06/15/2019 05:11:12 INFO 140679788066624] Final configuration: {u'_ftp_port': 8999, u'num_samples_per_tree': u'100', u'_tuning_objective_metric': u'', u'_num_gpus': u'auto', u'_log_level': u'info', u'_kvstore': u'dist_async', u'force_dense': u'true', u'epochs': 1, u'feature_dim': u'22', u'num_trees': u'50', u'eval_metrics': [u'accuracy', u'precision_recall_fscore'], u'_num_kv_servers': u'auto', u'mini_batch_size': u'1000'}\u001b[0m\n",
      "\u001b[31m[06/15/2019 05:11:12 WARNING 140679788066624] Loggers have already been setup.\u001b[0m\n",
      "\u001b[31m[06/15/2019 05:11:12 INFO 140679788066624] Launching parameter server for role scheduler\u001b[0m\n",
      "\u001b[31m[06/15/2019 05:11:12 INFO 140679788066624] {'ECS_CONTAINER_METADATA_URI': 'http://169.254.170.2/v3/bd572f39-f27d-4a74-90a0-d318316dbc99', 'PROTOCOL_BUFFERS_PYTHON_IMPLEMENTATION_VERSION': '2', 'PATH': '/opt/amazon/bin:/usr/local/nvidia/bin:/usr/local/sbin:/usr/local/bin:/usr/sbin:/usr/bin:/sbin:/bin:/opt/amazon/bin:/opt/amazon/bin', 'SAGEMAKER_HTTP_PORT': '8080', 'HOME': '/root', 'PYTHONUNBUFFERED': 'TRUE', 'CANONICAL_ENVROOT': '/opt/amazon', 'LD_LIBRARY_PATH': '/opt/amazon/lib/python2.7/site-packages/cv2/../../../../lib:/usr/local/nvidia/lib64:/opt/amazon/lib', 'MXNET_KVSTORE_BIGARRAY_BOUND': '400000000', 'LANG': 'en_US.utf8', 'DMLC_INTERFACE': 'ethwe', 'SHLVL': '1', 'AWS_REGION': 'us-east-1', 'NVIDIA_VISIBLE_DEVICES': 'void', 'TRAINING_JOB_NAME': 'randomcutforest-2019-06-15-05-08-08-813', 'PROTOCOL_BUFFERS_PYTHON_IMPLEMENTATION': 'cpp', 'ENVROOT': '/opt/amazon', 'SAGEMAKER_DATA_PATH': '/opt/ml', 'NVIDIA_DRIVER_CAPABILITIES': 'compute,utility', 'NVIDIA_REQUIRE_CUDA': 'cuda>=9.0', 'OMP_NUM_THREADS': '2', 'HOSTNAME': 'aws', 'AWS_CONTAINER_CREDENTIALS_RELATIVE_URI': '/v2/credentials/055eb97e-b1e1-4a0b-994b-8735f7852e96', 'PWD': '/', 'AWS_EXECUTION_ENV': 'AWS_ECS_EC2'}\u001b[0m\n",
      "\u001b[31m[06/15/2019 05:11:12 INFO 140679788066624] envs={'ECS_CONTAINER_METADATA_URI': 'http://169.254.170.2/v3/bd572f39-f27d-4a74-90a0-d318316dbc99', 'PROTOCOL_BUFFERS_PYTHON_IMPLEMENTATION_VERSION': '2', 'DMLC_NUM_WORKER': '1', 'DMLC_PS_ROOT_PORT': '9000', 'PATH': '/opt/amazon/bin:/usr/local/nvidia/bin:/usr/local/sbin:/usr/local/bin:/usr/sbin:/usr/bin:/sbin:/bin:/opt/amazon/bin:/opt/amazon/bin', 'SAGEMAKER_HTTP_PORT': '8080', 'HOME': '/root', 'PYTHONUNBUFFERED': 'TRUE', 'CANONICAL_ENVROOT': '/opt/amazon', 'LD_LIBRARY_PATH': '/opt/amazon/lib/python2.7/site-packages/cv2/../../../../lib:/usr/local/nvidia/lib64:/opt/amazon/lib', 'MXNET_KVSTORE_BIGARRAY_BOUND': '400000000', 'LANG': 'en_US.utf8', 'DMLC_INTERFACE': 'ethwe', 'SHLVL': '1', 'DMLC_PS_ROOT_URI': '10.32.0.4', 'AWS_REGION': 'us-east-1', 'NVIDIA_VISIBLE_DEVICES': 'void', 'TRAINING_JOB_NAME': 'randomcutforest-2019-06-15-05-08-08-813', 'PROTOCOL_BUFFERS_PYTHON_IMPLEMENTATION': 'cpp', 'ENVROOT': '/opt/amazon', 'SAGEMAKER_DATA_PATH': '/opt/ml', 'NVIDIA_DRIVER_CAPABILITIES': 'compute,utility', 'NVIDIA_REQUIRE_CUDA': 'cuda>=9.0', 'OMP_NUM_THREADS': '2', 'HOSTNAME': 'aws', 'AWS_CONTAINER_CREDENTIALS_RELATIVE_URI': '/v2/credentials/055eb97e-b1e1-4a0b-994b-8735f7852e96', 'DMLC_ROLE': 'scheduler', 'PWD': '/', 'DMLC_NUM_SERVER': '1', 'AWS_EXECUTION_ENV': 'AWS_ECS_EC2'}\u001b[0m\n",
      "\u001b[31m[06/15/2019 05:11:12 INFO 140679788066624] Launching parameter server for role server\u001b[0m\n",
      "\u001b[31m[06/15/2019 05:11:12 INFO 140679788066624] {'ECS_CONTAINER_METADATA_URI': 'http://169.254.170.2/v3/bd572f39-f27d-4a74-90a0-d318316dbc99', 'PROTOCOL_BUFFERS_PYTHON_IMPLEMENTATION_VERSION': '2', 'PATH': '/opt/amazon/bin:/usr/local/nvidia/bin:/usr/local/sbin:/usr/local/bin:/usr/sbin:/usr/bin:/sbin:/bin:/opt/amazon/bin:/opt/amazon/bin', 'SAGEMAKER_HTTP_PORT': '8080', 'HOME': '/root', 'PYTHONUNBUFFERED': 'TRUE', 'CANONICAL_ENVROOT': '/opt/amazon', 'LD_LIBRARY_PATH': '/opt/amazon/lib/python2.7/site-packages/cv2/../../../../lib:/usr/local/nvidia/lib64:/opt/amazon/lib', 'MXNET_KVSTORE_BIGARRAY_BOUND': '400000000', 'LANG': 'en_US.utf8', 'DMLC_INTERFACE': 'ethwe', 'SHLVL': '1', 'AWS_REGION': 'us-east-1', 'NVIDIA_VISIBLE_DEVICES': 'void', 'TRAINING_JOB_NAME': 'randomcutforest-2019-06-15-05-08-08-813', 'PROTOCOL_BUFFERS_PYTHON_IMPLEMENTATION': 'cpp', 'ENVROOT': '/opt/amazon', 'SAGEMAKER_DATA_PATH': '/opt/ml', 'NVIDIA_DRIVER_CAPABILITIES': 'compute,utility', 'NVIDIA_REQUIRE_CUDA': 'cuda>=9.0', 'OMP_NUM_THREADS': '2', 'HOSTNAME': 'aws', 'AWS_CONTAINER_CREDENTIALS_RELATIVE_URI': '/v2/credentials/055eb97e-b1e1-4a0b-994b-8735f7852e96', 'PWD': '/', 'AWS_EXECUTION_ENV': 'AWS_ECS_EC2'}\u001b[0m\n",
      "\u001b[31m[06/15/2019 05:11:12 INFO 140679788066624] envs={'ECS_CONTAINER_METADATA_URI': 'http://169.254.170.2/v3/bd572f39-f27d-4a74-90a0-d318316dbc99', 'PROTOCOL_BUFFERS_PYTHON_IMPLEMENTATION_VERSION': '2', 'DMLC_NUM_WORKER': '1', 'DMLC_PS_ROOT_PORT': '9000', 'PATH': '/opt/amazon/bin:/usr/local/nvidia/bin:/usr/local/sbin:/usr/local/bin:/usr/sbin:/usr/bin:/sbin:/bin:/opt/amazon/bin:/opt/amazon/bin', 'SAGEMAKER_HTTP_PORT': '8080', 'HOME': '/root', 'PYTHONUNBUFFERED': 'TRUE', 'CANONICAL_ENVROOT': '/opt/amazon', 'LD_LIBRARY_PATH': '/opt/amazon/lib/python2.7/site-packages/cv2/../../../../lib:/usr/local/nvidia/lib64:/opt/amazon/lib', 'MXNET_KVSTORE_BIGARRAY_BOUND': '400000000', 'LANG': 'en_US.utf8', 'DMLC_INTERFACE': 'ethwe', 'SHLVL': '1', 'DMLC_PS_ROOT_URI': '10.32.0.4', 'AWS_REGION': 'us-east-1', 'NVIDIA_VISIBLE_DEVICES': 'void', 'TRAINING_JOB_NAME': 'randomcutforest-2019-06-15-05-08-08-813', 'PROTOCOL_BUFFERS_PYTHON_IMPLEMENTATION': 'cpp', 'ENVROOT': '/opt/amazon', 'SAGEMAKER_DATA_PATH': '/opt/ml', 'NVIDIA_DRIVER_CAPABILITIES': 'compute,utility', 'NVIDIA_REQUIRE_CUDA': 'cuda>=9.0', 'OMP_NUM_THREADS': '2', 'HOSTNAME': 'aws', 'AWS_CONTAINER_CREDENTIALS_RELATIVE_URI': '/v2/credentials/055eb97e-b1e1-4a0b-994b-8735f7852e96', 'DMLC_ROLE': 'server', 'PWD': '/', 'DMLC_NUM_SERVER': '1', 'AWS_EXECUTION_ENV': 'AWS_ECS_EC2'}\u001b[0m\n",
      "\u001b[31m[06/15/2019 05:11:12 INFO 140679788066624] Environment: {'ECS_CONTAINER_METADATA_URI': 'http://169.254.170.2/v3/bd572f39-f27d-4a74-90a0-d318316dbc99', 'PROTOCOL_BUFFERS_PYTHON_IMPLEMENTATION_VERSION': '2', 'DMLC_PS_ROOT_PORT': '9000', 'DMLC_NUM_WORKER': '1', 'SAGEMAKER_HTTP_PORT': '8080', 'PATH': '/opt/amazon/bin:/usr/local/nvidia/bin:/usr/local/sbin:/usr/local/bin:/usr/sbin:/usr/bin:/sbin:/bin:/opt/amazon/bin:/opt/amazon/bin', 'PYTHONUNBUFFERED': 'TRUE', 'CANONICAL_ENVROOT': '/opt/amazon', 'LD_LIBRARY_PATH': '/opt/amazon/lib/python2.7/site-packages/cv2/../../../../lib:/usr/local/nvidia/lib64:/opt/amazon/lib', 'MXNET_KVSTORE_BIGARRAY_BOUND': '400000000', 'LANG': 'en_US.utf8', 'DMLC_INTERFACE': 'ethwe', 'SHLVL': '1', 'DMLC_PS_ROOT_URI': '10.32.0.4', 'AWS_REGION': 'us-east-1', 'NVIDIA_VISIBLE_DEVICES': 'void', 'TRAINING_JOB_NAME': 'randomcutforest-2019-06-15-05-08-08-813', 'HOME': '/root', 'PROTOCOL_BUFFERS_PYTHON_IMPLEMENTATION': 'cpp', 'ENVROOT': '/opt/amazon', 'SAGEMAKER_DATA_PATH': '/opt/ml', 'NVIDIA_DRIVER_CAPABILITIES': 'compute,utility', 'NVIDIA_REQUIRE_CUDA': 'cuda>=9.0', 'OMP_NUM_THREADS': '2', 'HOSTNAME': 'aws', 'AWS_CONTAINER_CREDENTIALS_RELATIVE_URI': '/v2/credentials/055eb97e-b1e1-4a0b-994b-8735f7852e96', 'DMLC_ROLE': 'worker', 'PWD': '/', 'DMLC_NUM_SERVER': '1', 'AWS_EXECUTION_ENV': 'AWS_ECS_EC2'}\u001b[0m\n",
      "\u001b[31mProcess 36 is a shell:scheduler.\u001b[0m\n",
      "\u001b[31mProcess 37 is a shell:server.\u001b[0m\n",
      "\u001b[31mProcess 1 is a worker.\u001b[0m\n",
      "\u001b[31m[06/15/2019 05:11:12 INFO 140679788066624] Using default worker.\u001b[0m\n",
      "\u001b[31m[06/15/2019 05:11:12 INFO 140679788066624] Loaded iterator creator application/x-recordio-protobuf for content type ('application/x-recordio-protobuf', '1.0')\u001b[0m\n",
      "\u001b[31m[06/15/2019 05:11:12 INFO 140679788066624] Verifying hyperparamemters...\u001b[0m\n",
      "\u001b[31m[06/15/2019 05:11:12 INFO 140679788066624] Hyperparameters are correct.\u001b[0m\n",
      "\u001b[31m[06/15/2019 05:11:12 INFO 140679788066624] Validating that feature_dim agrees with dimensions in training data...\u001b[0m\n",
      "\u001b[31m[06/15/2019 05:11:12 INFO 140679788066624] feature_dim is correct.\u001b[0m\n",
      "\u001b[31m[06/15/2019 05:11:12 INFO 140679788066624] Validating memory limits...\u001b[0m\n",
      "\u001b[31m[06/15/2019 05:11:12 INFO 140679788066624] Available memory in bytes: 15195742208\u001b[0m\n",
      "\u001b[31m[06/15/2019 05:11:12 INFO 140679788066624] Estimated sample size in bytes: 1760000\u001b[0m\n",
      "\u001b[31m[06/15/2019 05:11:12 INFO 140679788066624] Estimated memory needed to build the forest in bytes: 4400000\u001b[0m\n",
      "\u001b[31m[06/15/2019 05:11:12 INFO 140679788066624] Memory limits validated.\u001b[0m\n",
      "\u001b[31m[06/15/2019 05:11:12 INFO 140679788066624] Starting cluster sharing facilities...\u001b[0m\n",
      "\u001b[31m[I 19-06-15 05:11:12] >>> starting FTP server on 0.0.0.0:8999, pid=1 <<<\u001b[0m\n",
      "\u001b[31m[I 19-06-15 05:11:12] poller: <class 'pyftpdlib.ioloop.Epoll'>\u001b[0m\n",
      "\u001b[31m[I 19-06-15 05:11:12] masquerade (NAT) address: None\u001b[0m\n",
      "\u001b[31m[I 19-06-15 05:11:12] passive ports: None\u001b[0m\n",
      "\u001b[31m[06/15/2019 05:11:12 INFO 140679788066624] Create Store: dist_async\u001b[0m\n",
      "\u001b[31m[06/15/2019 05:11:12 INFO 140678308742912] >>> starting FTP server on 0.0.0.0:8999, pid=1 <<<\u001b[0m\n",
      "\u001b[31m[06/15/2019 05:11:12 INFO 140678308742912] poller: <class 'pyftpdlib.ioloop.Epoll'>\u001b[0m\n",
      "\u001b[31m[06/15/2019 05:11:12 INFO 140678308742912] masquerade (NAT) address: None\u001b[0m\n",
      "\u001b[31m[06/15/2019 05:11:12 INFO 140678308742912] passive ports: None\u001b[0m\n",
      "\u001b[31m[06/15/2019 05:11:12 INFO 140678308742912] use sendfile(2): False\u001b[0m\n",
      "\u001b[31m[I 19-06-15 05:11:12] use sendfile(2): False\u001b[0m\n",
      "\u001b[31m[06/15/2019 05:11:13 INFO 140679788066624] Cluster sharing facilities started.\u001b[0m\n",
      "\u001b[31m[06/15/2019 05:11:13 INFO 140679788066624] Verifying all workers are accessible...\u001b[0m\n",
      "\u001b[31m[06/15/2019 05:11:13 INFO 140679788066624] All workers accessible.\u001b[0m\n",
      "\u001b[31m[06/15/2019 05:11:13 INFO 140679788066624] Initializing Sampler...\u001b[0m\n",
      "\u001b[31m[06/15/2019 05:11:13 INFO 140679788066624] Sampler correctly initialized.\u001b[0m\n",
      "\u001b[31m#metrics {\"Metrics\": {\"initialize.time\": {\"count\": 1, \"max\": 790.687084197998, \"sum\": 790.687084197998, \"min\": 790.687084197998}}, \"EndTime\": 1560575473.482654, \"Dimensions\": {\"Host\": \"algo-1\", \"Operation\": \"training\", \"Algorithm\": \"RandomCutForest\"}, \"StartTime\": 1560575472.680707}\n",
      "\u001b[0m\n",
      "\u001b[31m#metrics {\"Metrics\": {\"Max Batches Seen Between Resets\": {\"count\": 1, \"max\": 0, \"sum\": 0.0, \"min\": 0}, \"Number of Batches Since Last Reset\": {\"count\": 1, \"max\": 0, \"sum\": 0.0, \"min\": 0}, \"Number of Records Since Last Reset\": {\"count\": 1, \"max\": 0, \"sum\": 0.0, \"min\": 0}, \"Total Batches Seen\": {\"count\": 1, \"max\": 0, \"sum\": 0.0, \"min\": 0}, \"Total Records Seen\": {\"count\": 1, \"max\": 0, \"sum\": 0.0, \"min\": 0}, \"Max Records Seen Between Resets\": {\"count\": 1, \"max\": 0, \"sum\": 0.0, \"min\": 0}, \"Reset Count\": {\"count\": 1, \"max\": 0, \"sum\": 0.0, \"min\": 0}}, \"EndTime\": 1560575473.482956, \"Dimensions\": {\"Host\": \"algo-1\", \"Meta\": \"init_train_data_iter\", \"Operation\": \"training\", \"Algorithm\": \"RandomCutForest\"}, \"StartTime\": 1560575473.482883}\n",
      "\u001b[0m\n",
      "\u001b[31m[2019-06-15 05:11:13.484] [tensorio] [info] epoch_stats={\"data_pipeline\": \"/opt/ml/input/data/train\", \"epoch\": 0, \"duration\": 802, \"num_examples\": 1, \"num_bytes\": 204000}\u001b[0m\n",
      "\u001b[31m[06/15/2019 05:11:13 INFO 140679788066624] Sampling training data...\u001b[0m\n",
      "\u001b[31m[2019-06-15 05:11:13.653] [tensorio] [info] epoch_stats={\"data_pipeline\": \"/opt/ml/input/data/train\", \"epoch\": 1, \"duration\": 169, \"num_examples\": 85, \"num_bytes\": 17293488}\u001b[0m\n",
      "\u001b[31m[06/15/2019 05:11:13 INFO 140679788066624] Sampling training data completed.\u001b[0m\n",
      "\u001b[31m#metrics {\"Metrics\": {\"epochs\": {\"count\": 1, \"max\": 1, \"sum\": 1.0, \"min\": 1}, \"update.time\": {\"count\": 1, \"max\": 177.0648956298828, \"sum\": 177.0648956298828, \"min\": 177.0648956298828}}, \"EndTime\": 1560575473.66132, \"Dimensions\": {\"Host\": \"algo-1\", \"Operation\": \"training\", \"Algorithm\": \"RandomCutForest\"}, \"StartTime\": 1560575473.482755}\n",
      "\u001b[0m\n",
      "\u001b[31m[06/15/2019 05:11:13 INFO 140679788066624] Early stop condition met. Stopping training.\u001b[0m\n",
      "\u001b[31m[06/15/2019 05:11:13 INFO 140679788066624] #progress_metric: host=algo-1, completed 100 % epochs\u001b[0m\n",
      "\u001b[31m#metrics {\"Metrics\": {\"Max Batches Seen Between Resets\": {\"count\": 1, \"max\": 85, \"sum\": 85.0, \"min\": 85}, \"Number of Batches Since Last Reset\": {\"count\": 1, \"max\": 85, \"sum\": 85.0, \"min\": 85}, \"Number of Records Since Last Reset\": {\"count\": 1, \"max\": 84772, \"sum\": 84772.0, \"min\": 84772}, \"Total Batches Seen\": {\"count\": 1, \"max\": 85, \"sum\": 85.0, \"min\": 85}, \"Total Records Seen\": {\"count\": 1, \"max\": 84772, \"sum\": 84772.0, \"min\": 84772}, \"Max Records Seen Between Resets\": {\"count\": 1, \"max\": 84772, \"sum\": 84772.0, \"min\": 84772}, \"Reset Count\": {\"count\": 1, \"max\": 1, \"sum\": 1.0, \"min\": 1}}, \"EndTime\": 1560575473.661696, \"Dimensions\": {\"Host\": \"algo-1\", \"Meta\": \"training_data_iter\", \"Operation\": \"training\", \"Algorithm\": \"RandomCutForest\", \"epoch\": 0}, \"StartTime\": 1560575473.48422}\n",
      "\u001b[0m\n",
      "\u001b[31m[06/15/2019 05:11:13 INFO 140679788066624] #throughput_metric: host=algo-1, train throughput=477040.214515 records/second\u001b[0m\n",
      "\u001b[31m[06/15/2019 05:11:13 INFO 140679788066624] Master node: building Random Cut Forest...\u001b[0m\n",
      "\u001b[31m[06/15/2019 05:11:13 INFO 140679788066624] Gathering samples...\u001b[0m\n",
      "\u001b[31m[06/15/2019 05:11:13 INFO 140679788066624] 5000 samples gathered\u001b[0m\n",
      "\u001b[31m[06/15/2019 05:11:13 INFO 140679788066624] Building Random Cut Forest...\u001b[0m\n",
      "\u001b[31m[06/15/2019 05:11:13 INFO 140679788066624] Random Cut Forest built: \n",
      "\u001b[0m\n",
      "\u001b[31mForestInfo{num_trees: 50, num_samples_in_forest: 5000, num_samples_per_tree: 100, sample_dim: 22, shingle_size: 1, trees_num_nodes: [199, 199, 199, 199, 199, 199, 199, 199, 199, 199, 199, 199, 197, 199, 199, 199, 199, 199, 199, 199, 199, 199, 197, 199, 199, 195, 197, 199, 199, 199, 197, 199, 199, 197, 199, 199, 197, 199, 199, 199, 199, 199, 199, 197, 199, 199, 197, 197, 199, 199, ], trees_depth: [16, 16, 15, 13, 17, 17, 14, 13, 16, 15, 13, 18, 26, 13, 14, 16, 14, 13, 12, 19, 17, 15, 12, 13, 16, 16, 15, 17, 15, 16, 15, 14, 15, 17, 16, 14, 15, 16, 15, 16, 16, 14, 14, 16, 16, 15, 17, 14, 16, 17, ], max_num_nodes: 199, min_num_nodes: 195, avg_num_nodes: 198, max_tree_depth: 26, min_tree_depth: 12, avg_tree_depth: 15, mem_size: 4368768}\u001b[0m\n",
      "\u001b[31m#metrics {\"Metrics\": {\"finalize.time\": {\"count\": 1, \"max\": 16.06583595275879, \"sum\": 16.06583595275879, \"min\": 16.06583595275879}, \"model.bytes\": {\"count\": 1, \"max\": 4368768, \"sum\": 4368768.0, \"min\": 4368768}, \"fit_model.time\": {\"count\": 1, \"max\": 8.478879928588867, \"sum\": 8.478879928588867, \"min\": 8.478879928588867}}, \"EndTime\": 1560575473.678037, \"Dimensions\": {\"Host\": \"algo-1\", \"Operation\": \"training\", \"Algorithm\": \"RandomCutForest\"}, \"StartTime\": 1560575473.66143}\n",
      "\u001b[0m\n",
      "\u001b[31m[06/15/2019 05:11:13 INFO 140679788066624] Master node: Serializing the RandomCutForest model\u001b[0m\n",
      "\u001b[31m#metrics {\"Metrics\": {\"serialize_model.time\": {\"count\": 1, \"max\": 43.58386993408203, \"sum\": 43.58386993408203, \"min\": 43.58386993408203}}, \"EndTime\": 1560575473.721743, \"Dimensions\": {\"Host\": \"algo-1\", \"Operation\": \"training\", \"Algorithm\": \"RandomCutForest\"}, \"StartTime\": 1560575473.678119}\n",
      "\u001b[0m\n",
      "\u001b[31m[06/15/2019 05:11:13 INFO 140679788066624] Test data is not provided.\u001b[0m\n",
      "\u001b[31m[I 19-06-15 05:11:13] >>> shutting down FTP server (0 active fds) <<<\u001b[0m\n",
      "\u001b[31m[06/15/2019 05:11:13 INFO 140678308742912] >>> shutting down FTP server (0 active fds) <<<\u001b[0m\n",
      "\u001b[31m#metrics {\"Metrics\": {\"totaltime\": {\"count\": 1, \"max\": 1339.210033416748, \"sum\": 1339.210033416748, \"min\": 1339.210033416748}, \"setuptime\": {\"count\": 1, \"max\": 188.47107887268066, \"sum\": 188.47107887268066, \"min\": 188.47107887268066}}, \"EndTime\": 1560575473.824349, \"Dimensions\": {\"Host\": \"algo-1\", \"Operation\": \"training\", \"Algorithm\": \"RandomCutForest\"}, \"StartTime\": 1560575473.72181}\n",
      "\u001b[0m\n",
      "\n",
      "2019-06-15 05:11:23 Uploading - Uploading generated training model\n",
      "2019-06-15 05:11:23 Completed - Training job completed\n",
      "Billable seconds: 60\n"
     ]
    }
   ],
   "source": [
    "from sagemaker import RandomCutForest\n",
    "\n",
    "session = sagemaker.Session()\n",
    "\n",
    "rcf = RandomCutForest(role=role,\n",
    "                      train_instance_count=1,\n",
    "                      train_instance_type='ml.m4.xlarge',\n",
    "                      data_location=f's3://{data_bucket}/{subfolder}/',\n",
    "                      output_path=f's3://{data_bucket}/{subfolder}/output',\n",
    "                      num_samples_per_tree=100,\n",
    "                      num_trees=50)\n",
    "\n",
    "# automatically upload the training data to S3 and run the training job\n",
    "rcf.fit(rcf.record_set(train_df_no_result.values))"
   ]
  },
  {
   "cell_type": "markdown",
   "metadata": {},
   "source": [
    "## Part 5: Host the model"
   ]
  },
  {
   "cell_type": "code",
   "execution_count": 9,
   "metadata": {},
   "outputs": [],
   "source": [
    "endpoint_name = 'suspicious-lines'\n",
    "try:\n",
    "    session.delete_endpoint(sagemaker.predictor.RealTimePredictor(endpoint=endpoint_name).endpoint)\n",
    "    print('Warning: Existing endpoint deleted to make way for your new endpoint.')\n",
    "except:\n",
    "    pass"
   ]
  },
  {
   "cell_type": "code",
   "execution_count": 10,
   "metadata": {},
   "outputs": [
    {
     "name": "stdout",
     "output_type": "stream",
     "text": [
      "---------------------------------------------------------------------------------------------------------------!"
     ]
    }
   ],
   "source": [
    "rcf_endpoint = rcf.deploy(\n",
    "    initial_instance_count=1,\n",
    "    instance_type='ml.t2.medium', \n",
    "    endpoint_name=endpoint_name\n",
    ")"
   ]
  },
  {
   "cell_type": "code",
   "execution_count": 11,
   "metadata": {},
   "outputs": [],
   "source": [
    "from sagemaker.predictor import csv_serializer, json_deserializer\n",
    "\n",
    "rcf_endpoint.content_type = 'text/csv'\n",
    "rcf_endpoint.serializer = csv_serializer\n",
    "rcf_endpoint.accept = 'application/json'\n",
    "rcf_endpoint.deserializer = json_deserializer"
   ]
  },
  {
   "cell_type": "markdown",
   "metadata": {},
   "source": [
    "## Part 6: Test the model"
   ]
  },
  {
   "cell_type": "code",
   "execution_count": 12,
   "metadata": {
    "scrolled": true
   },
   "outputs": [
    {
     "data": {
      "text/plain": [
       "False    20791\n",
       "True       402\n",
       "Name: Error, dtype: int64"
      ]
     },
     "execution_count": 12,
     "metadata": {},
     "output_type": "execute_result"
    }
   ],
   "source": [
    "results = rcf_endpoint.predict(val_df_no_result.values)\n",
    "scores_df = pd.DataFrame(results['scores'])\n",
    "val_df = val_df.reset_index(drop=True)\n",
    "results_df = pd.concat([val_df, scores_df], axis=1)\n",
    "results_df['Error'].value_counts()"
   ]
  },
  {
   "cell_type": "code",
   "execution_count": 13,
   "metadata": {},
   "outputs": [
    {
     "name": "stdout",
     "output_type": "stream",
     "text": [
      "Score cutoff: 1.5992163921\n"
     ]
    },
    {
     "data": {
      "text/plain": [
       "True     201\n",
       "False     67\n",
       "Name: Error, dtype: int64"
      ]
     },
     "execution_count": 13,
     "metadata": {},
     "output_type": "execute_result"
    }
   ],
   "source": [
    "score_cutoff = results_df[results_df['Error'] == True]['score'].median()\n",
    "print(f'Score cutoff: {score_cutoff}')\n",
    "results_above_cutoff = results_df[results_df['score'] > score_cutoff]\n",
    "results_above_cutoff['Error'].value_counts()"
   ]
  },
  {
   "cell_type": "code",
   "execution_count": 14,
   "metadata": {},
   "outputs": [
    {
     "data": {
      "text/html": [
       "<div>\n",
       "<style scoped>\n",
       "    .dataframe tbody tr th:only-of-type {\n",
       "        vertical-align: middle;\n",
       "    }\n",
       "\n",
       "    .dataframe tbody tr th {\n",
       "        vertical-align: top;\n",
       "    }\n",
       "\n",
       "    .dataframe thead th {\n",
       "        text-align: right;\n",
       "    }\n",
       "</style>\n",
       "<table border=\"1\" class=\"dataframe\">\n",
       "  <thead>\n",
       "    <tr style=\"text-align: right;\">\n",
       "      <th></th>\n",
       "      <th>Matter Number</th>\n",
       "      <th>Firm Name</th>\n",
       "      <th>Minutes</th>\n",
       "      <th>Fee</th>\n",
       "      <th>Total</th>\n",
       "      <th>Error</th>\n",
       "      <th>Matter Type_Antitrust</th>\n",
       "      <th>Matter Type_Asset recovery</th>\n",
       "      <th>Matter Type_Commercial arbitration</th>\n",
       "      <th>Matter Type_IPO</th>\n",
       "      <th>...</th>\n",
       "      <th>Resource_Junior</th>\n",
       "      <th>Resource_Paralegal</th>\n",
       "      <th>Resource_Partner</th>\n",
       "      <th>Resource_Senior</th>\n",
       "      <th>Activity_Attend Court</th>\n",
       "      <th>Activity_Attend Meeting</th>\n",
       "      <th>Activity_Phone Call</th>\n",
       "      <th>Activity_Prepare Opinion</th>\n",
       "      <th>score</th>\n",
       "      <th>Prediction</th>\n",
       "    </tr>\n",
       "  </thead>\n",
       "  <tbody>\n",
       "    <tr>\n",
       "      <th>0</th>\n",
       "      <td>0</td>\n",
       "      <td>Cox Group</td>\n",
       "      <td>100</td>\n",
       "      <td>50</td>\n",
       "      <td>83.33</td>\n",
       "      <td>False</td>\n",
       "      <td>1</td>\n",
       "      <td>0</td>\n",
       "      <td>0</td>\n",
       "      <td>0</td>\n",
       "      <td>...</td>\n",
       "      <td>0</td>\n",
       "      <td>1</td>\n",
       "      <td>0</td>\n",
       "      <td>0</td>\n",
       "      <td>0</td>\n",
       "      <td>0</td>\n",
       "      <td>0</td>\n",
       "      <td>1</td>\n",
       "      <td>1.088598</td>\n",
       "      <td>False</td>\n",
       "    </tr>\n",
       "    <tr>\n",
       "      <th>1</th>\n",
       "      <td>1986</td>\n",
       "      <td>Russo Ltd</td>\n",
       "      <td>20</td>\n",
       "      <td>80</td>\n",
       "      <td>26.67</td>\n",
       "      <td>False</td>\n",
       "      <td>0</td>\n",
       "      <td>0</td>\n",
       "      <td>0</td>\n",
       "      <td>0</td>\n",
       "      <td>...</td>\n",
       "      <td>0</td>\n",
       "      <td>1</td>\n",
       "      <td>0</td>\n",
       "      <td>0</td>\n",
       "      <td>0</td>\n",
       "      <td>0</td>\n",
       "      <td>1</td>\n",
       "      <td>0</td>\n",
       "      <td>1.050704</td>\n",
       "      <td>False</td>\n",
       "    </tr>\n",
       "    <tr>\n",
       "      <th>2</th>\n",
       "      <td>1254</td>\n",
       "      <td>Peters, Nelson and Moyer</td>\n",
       "      <td>120</td>\n",
       "      <td>70</td>\n",
       "      <td>140.00</td>\n",
       "      <td>False</td>\n",
       "      <td>1</td>\n",
       "      <td>0</td>\n",
       "      <td>0</td>\n",
       "      <td>0</td>\n",
       "      <td>...</td>\n",
       "      <td>0</td>\n",
       "      <td>1</td>\n",
       "      <td>0</td>\n",
       "      <td>0</td>\n",
       "      <td>1</td>\n",
       "      <td>0</td>\n",
       "      <td>0</td>\n",
       "      <td>0</td>\n",
       "      <td>0.678324</td>\n",
       "      <td>False</td>\n",
       "    </tr>\n",
       "    <tr>\n",
       "      <th>3</th>\n",
       "      <td>1777</td>\n",
       "      <td>Jackson, Pollard and Levy</td>\n",
       "      <td>25</td>\n",
       "      <td>180</td>\n",
       "      <td>75.00</td>\n",
       "      <td>False</td>\n",
       "      <td>0</td>\n",
       "      <td>0</td>\n",
       "      <td>0</td>\n",
       "      <td>0</td>\n",
       "      <td>...</td>\n",
       "      <td>1</td>\n",
       "      <td>0</td>\n",
       "      <td>0</td>\n",
       "      <td>0</td>\n",
       "      <td>0</td>\n",
       "      <td>0</td>\n",
       "      <td>1</td>\n",
       "      <td>0</td>\n",
       "      <td>0.774087</td>\n",
       "      <td>False</td>\n",
       "    </tr>\n",
       "    <tr>\n",
       "      <th>4</th>\n",
       "      <td>113</td>\n",
       "      <td>Solis, Adams and Cooper</td>\n",
       "      <td>25</td>\n",
       "      <td>600</td>\n",
       "      <td>250.00</td>\n",
       "      <td>False</td>\n",
       "      <td>0</td>\n",
       "      <td>1</td>\n",
       "      <td>0</td>\n",
       "      <td>0</td>\n",
       "      <td>...</td>\n",
       "      <td>0</td>\n",
       "      <td>0</td>\n",
       "      <td>1</td>\n",
       "      <td>0</td>\n",
       "      <td>0</td>\n",
       "      <td>0</td>\n",
       "      <td>1</td>\n",
       "      <td>0</td>\n",
       "      <td>0.942076</td>\n",
       "      <td>False</td>\n",
       "    </tr>\n",
       "  </tbody>\n",
       "</table>\n",
       "<p>5 rows × 26 columns</p>\n",
       "</div>"
      ],
      "text/plain": [
       "   Matter Number                  Firm Name  Minutes  Fee   Total  Error  \\\n",
       "0              0                  Cox Group      100   50   83.33  False   \n",
       "1           1986                  Russo Ltd       20   80   26.67  False   \n",
       "2           1254   Peters, Nelson and Moyer      120   70  140.00  False   \n",
       "3           1777  Jackson, Pollard and Levy       25  180   75.00  False   \n",
       "4            113    Solis, Adams and Cooper       25  600  250.00  False   \n",
       "\n",
       "   Matter Type_Antitrust  Matter Type_Asset recovery  \\\n",
       "0                      1                           0   \n",
       "1                      0                           0   \n",
       "2                      1                           0   \n",
       "3                      0                           0   \n",
       "4                      0                           1   \n",
       "\n",
       "   Matter Type_Commercial arbitration  Matter Type_IPO  ...  Resource_Junior  \\\n",
       "0                                   0                0  ...                0   \n",
       "1                                   0                0  ...                0   \n",
       "2                                   0                0  ...                0   \n",
       "3                                   0                0  ...                1   \n",
       "4                                   0                0  ...                0   \n",
       "\n",
       "   Resource_Paralegal  Resource_Partner  Resource_Senior  \\\n",
       "0                   1                 0                0   \n",
       "1                   1                 0                0   \n",
       "2                   1                 0                0   \n",
       "3                   0                 0                0   \n",
       "4                   0                 1                0   \n",
       "\n",
       "   Activity_Attend Court  Activity_Attend Meeting  Activity_Phone Call  \\\n",
       "0                      0                        0                    0   \n",
       "1                      0                        0                    1   \n",
       "2                      1                        0                    0   \n",
       "3                      0                        0                    1   \n",
       "4                      0                        0                    1   \n",
       "\n",
       "   Activity_Prepare Opinion     score  Prediction  \n",
       "0                         1  1.088598       False  \n",
       "1                         0  1.050704       False  \n",
       "2                         0  0.678324       False  \n",
       "3                         0  0.774087       False  \n",
       "4                         0  0.942076       False  \n",
       "\n",
       "[5 rows x 26 columns]"
      ]
     },
     "execution_count": 14,
     "metadata": {},
     "output_type": "execute_result"
    }
   ],
   "source": [
    "results_df['Prediction'] = results_df['score'] > score_cutoff\n",
    "results_df.head()"
   ]
  },
  {
   "cell_type": "markdown",
   "metadata": {},
   "source": [
    "## Remove the Endpoint (optional)"
   ]
  },
  {
   "cell_type": "markdown",
   "metadata": {},
   "source": [
    "Comment out this cell if you want the endpoint to exist after \"run all\""
   ]
  },
  {
   "cell_type": "code",
   "execution_count": 15,
   "metadata": {},
   "outputs": [],
   "source": [
    "# sagemaker.Session().delete_endpoint(rcf_endpoint.endpoint)"
   ]
  },
  {
   "cell_type": "code",
   "execution_count": null,
   "metadata": {},
   "outputs": [],
   "source": []
  }
 ],
 "metadata": {
  "kernelspec": {
   "display_name": "Python 3",
   "language": "python",
   "name": "python3"
  },
  "language_info": {
   "codemirror_mode": {
    "name": "ipython",
    "version": 3
   },
   "file_extension": ".py",
   "mimetype": "text/x-python",
   "name": "python",
   "nbconvert_exporter": "python",
   "pygments_lexer": "ipython3",
   "version": "3.7.5"
  }
 },
 "nbformat": 4,
 "nbformat_minor": 2
}
